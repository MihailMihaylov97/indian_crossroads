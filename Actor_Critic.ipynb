{
 "cells": [
  {
   "cell_type": "code",
   "execution_count": 1,
   "metadata": {},
   "outputs": [
    {
     "name": "stdout",
     "output_type": "stream",
     "text": [
      "importing Jupyter notebook from Environments.ipynb\n",
      "Environment reset with param\n",
      "Environment reset with param\n",
      "{0: [[0, 5], [5, 10], 0, 0], 1: [[5, 0], [0, 5], 0, 0], 2: [[5, 10], [5, 0], 0, 0], 3: [[10, 5], [5, 0], 0, 0]}\n",
      "A car tried to go outside the boundaries\n",
      "A car tried to go outside the boundaries\n",
      "A car tried to go outside the boundaries\n",
      "-16\n",
      "A car tried to go outside the boundaries\n",
      "A car tried to go outside the boundaries\n",
      "-11\n",
      "A car tried to go outside the boundaries\n",
      "A car tried to go outside the boundaries\n",
      "-11\n",
      "A car tried to go outside the boundaries\n",
      "A car tried to go outside the boundaries\n",
      "A car tried to go outside the boundaries\n",
      "-16\n",
      "A car tried to go outside the boundaries\n",
      "-6\n",
      "A car tried to go outside the boundaries\n",
      "-6\n",
      "A car tried to go outside the boundaries\n",
      "-6\n",
      "A car tried to go outside the boundaries\n",
      "A car tried to go outside the boundaries\n",
      "-11\n",
      "-1\n",
      "-1\n"
     ]
    }
   ],
   "source": [
    "import numpy as np\n",
    "import pandas as pd\n",
    "import math\n",
    "import itertools\n",
    "import matplotlib.pyplot as plt\n",
    "import sys\n",
    "import torch  \n",
    "import numpy as np  \n",
    "import torch.nn as nn\n",
    "import torch.optim as optim\n",
    "import torch.nn.functional as F\n",
    "from torch.autograd import Variable\n",
    "import matplotlib.pyplot as plt\n",
    "import pandas as pd\n",
    "\n",
    "\n",
    "import import_ipynb\n",
    "from Environments import Square_Crossroads"
   ]
  },
  {
   "cell_type": "code",
   "execution_count": 2,
   "metadata": {},
   "outputs": [
    {
     "name": "stdout",
     "output_type": "stream",
     "text": [
      "Environment reset with param\n",
      "Environment reset with param\n",
      "{0: [[0, 5], [5, 10], 0, 0], 1: [[5, 0], [0, 5], 0, 0], 2: [[5, 10], [5, 0], 0, 0], 3: [[10, 5], [5, 0], 0, 0]}\n"
     ]
    }
   ],
   "source": [
    "n_times_steps = 3\n",
    "seed = 10\n",
    "dist_cars = 0.5\n",
    "\n",
    "env = Square_Crossroads(n_times_steps, seed, dist_cars)\n",
    "env.reset()\n",
    "\n",
    "action_space = {0:[0,0], 1:[0,0], 2:[0,0], 3:[0,0]}\n",
    "total_reward = 0\n",
    "\n",
    "print(env.states)\n"
   ]
  },
  {
   "cell_type": "code",
   "execution_count": 3,
   "metadata": {},
   "outputs": [],
   "source": [
    "state_tensor = torch.zeros([4,2], dtype=torch.float32)\n",
    "action_tensor = torch.zeros([4,2], dtype=torch.float32)"
   ]
  },
  {
   "cell_type": "code",
   "execution_count": 4,
   "metadata": {},
   "outputs": [],
   "source": [
    "class Actor_Critic(nn.Module):\n",
    "    def __init__(self, state_tensor, hidden_size_actor, hidden_size_critic):\n",
    "        super(Actor_Critic, self).__init__()\n",
    "      \n",
    "        self.num_inputs = state_tensor.shape[1]\n",
    "        \n",
    "        \n",
    "        self.critic_linear1 = nn.Linear(self.num_inputs, hidden_size_critic)\n",
    "        self.critic_linear2 = nn.Linear(hidden_size_critic, 1)\n",
    "        \n",
    "        self.actor_linear1 = nn.Linear(self.num_inputs, hidden_size_actor)\n",
    "        self.actor_linear2 = nn.Linear(hidden_size_actor, hidden_size_actor)\n",
    "        self.alpha = nn.Linear(hidden_size_actor, 1)\n",
    "        self.beta = nn.Linear(hidden_size_actor, 1)\n",
    "        \n",
    "\n",
    "    def forward(self, state_tensor):\n",
    "\n",
    "        value = F.relu(self.critic_linear1(state_tensor))\n",
    "        value = self.critic_linear2(value)\n",
    "        \n",
    "        policy_dist = F.relu(self.actor_linear1(state_tensor))\n",
    "        policy_dist = F.relu(self.actor_linear2(policy_dist))\n",
    "\n",
    "        policy_dist_alpha = torch.clamp(self.alpha(policy_dist), 0.0001, 0.999)\n",
    "        policy_dist_beta = torch.clamp(self.beta(policy_dist), 0.0001, 0.999)\n",
    "        \n",
    "        \n",
    "        return value, policy_dist_alpha, policy_dist_beta"
   ]
  },
  {
   "cell_type": "code",
   "execution_count": 5,
   "metadata": {},
   "outputs": [],
   "source": [
    "ac = Actor_Critic(state_tensor, 20, 400)"
   ]
  },
  {
   "cell_type": "code",
   "execution_count": 6,
   "metadata": {},
   "outputs": [
    {
     "data": {
      "text/plain": [
       "Actor_Critic(\n",
       "  (critic_linear1): Linear(in_features=2, out_features=400, bias=True)\n",
       "  (critic_linear2): Linear(in_features=400, out_features=1, bias=True)\n",
       "  (actor_linear1): Linear(in_features=2, out_features=20, bias=True)\n",
       "  (actor_linear2): Linear(in_features=20, out_features=20, bias=True)\n",
       "  (alpha): Linear(in_features=20, out_features=1, bias=True)\n",
       "  (beta): Linear(in_features=20, out_features=1, bias=True)\n",
       ")"
      ]
     },
     "execution_count": 6,
     "metadata": {},
     "output_type": "execute_result"
    }
   ],
   "source": [
    "ac"
   ]
  },
  {
   "cell_type": "code",
   "execution_count": 7,
   "metadata": {},
   "outputs": [],
   "source": [
    "value, policy_dist_alpha, policy_dist_beta = ac(state_tensor)"
   ]
  },
  {
   "cell_type": "code",
   "execution_count": 8,
   "metadata": {},
   "outputs": [
    {
     "data": {
      "text/plain": [
       "tensor([[0.0366],\n",
       "        [0.0366],\n",
       "        [0.0366],\n",
       "        [0.0366]], grad_fn=<ClampBackward>)"
      ]
     },
     "execution_count": 8,
     "metadata": {},
     "output_type": "execute_result"
    }
   ],
   "source": [
    "policy_dist_alpha"
   ]
  },
  {
   "cell_type": "code",
   "execution_count": 9,
   "metadata": {},
   "outputs": [
    {
     "data": {
      "text/plain": [
       "tensor([[0.0208],\n",
       "        [0.0208],\n",
       "        [0.0208],\n",
       "        [0.0208]], grad_fn=<ClampBackward>)"
      ]
     },
     "execution_count": 9,
     "metadata": {},
     "output_type": "execute_result"
    }
   ],
   "source": [
    "policy_dist_beta"
   ]
  },
  {
   "cell_type": "code",
   "execution_count": 10,
   "metadata": {},
   "outputs": [
    {
     "data": {
      "text/plain": [
       "tensor([[0.0686],\n",
       "        [0.0686],\n",
       "        [0.0686],\n",
       "        [0.0686]], grad_fn=<AddmmBackward>)"
      ]
     },
     "execution_count": 10,
     "metadata": {},
     "output_type": "execute_result"
    }
   ],
   "source": [
    "value"
   ]
  },
  {
   "cell_type": "code",
   "execution_count": null,
   "metadata": {},
   "outputs": [],
   "source": []
  },
  {
   "cell_type": "code",
   "execution_count": 11,
   "metadata": {},
   "outputs": [],
   "source": [
    "a = ac.forward(state_tensor)"
   ]
  },
  {
   "cell_type": "code",
   "execution_count": 12,
   "metadata": {},
   "outputs": [
    {
     "data": {
      "text/plain": [
       "(tensor([[0.0686],\n",
       "         [0.0686],\n",
       "         [0.0686],\n",
       "         [0.0686]], grad_fn=<AddmmBackward>), tensor([[0.0366],\n",
       "         [0.0366],\n",
       "         [0.0366],\n",
       "         [0.0366]], grad_fn=<ClampBackward>), tensor([[0.0208],\n",
       "         [0.0208],\n",
       "         [0.0208],\n",
       "         [0.0208]], grad_fn=<ClampBackward>))"
      ]
     },
     "execution_count": 12,
     "metadata": {},
     "output_type": "execute_result"
    }
   ],
   "source": [
    "a"
   ]
  }
 ],
 "metadata": {
  "kernelspec": {
   "display_name": "Python 3",
   "language": "python",
   "name": "python3"
  },
  "language_info": {
   "codemirror_mode": {
    "name": "ipython",
    "version": 3
   },
   "file_extension": ".py",
   "mimetype": "text/x-python",
   "name": "python",
   "nbconvert_exporter": "python",
   "pygments_lexer": "ipython3",
   "version": "3.7.4"
  }
 },
 "nbformat": 4,
 "nbformat_minor": 2
}
