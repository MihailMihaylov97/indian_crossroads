{
 "cells": [
  {
   "cell_type": "code",
   "execution_count": 1,
   "metadata": {},
   "outputs": [
    {
     "name": "stdout",
     "output_type": "stream",
     "text": [
      "importing Jupyter notebook from Environments.ipynb\n",
      "Environment reset with param\n",
      "{0: [[0, 5], [5, 10], 0, 0], 1: [[5, 0], [5, 10], 0, 0], 2: [[5, 10], [0, 5], 0, 0], 3: [[10, 5], [0, 5], 0, 0]}\n",
      "Car 0 is taking a step in the environment with these actions: \n",
      " acceleration = 0.3528283602752257, curvature = 0.9977178362096486\n",
      "Car 1 is taking a step in the environment with these actions: \n",
      " acceleration = 0.9742321620569147, curvature = 0.000592288922312576\n",
      "Car 2 is taking a step in the environment with these actions: \n",
      " acceleration = 0.2279086446790946, curvature = 0.004829066896684397\n",
      "A car tried to go outside the boundaries\n",
      "Car 3 is taking a step in the environment with these actions: \n",
      " acceleration = 0.9956378522942915, curvature = 0.00031969397664568925\n",
      "A car tried to go outside the boundaries\n",
      "{0: [[0.03527920876150809, 4.99949408764892], [5, 10], 0.035282836027522566, 359.1784210354735], 1: [[5.097422541586141, 0.00036255586803496257], [5, 10], 0.09742321620569147, 0.21322401203252736], 2: [[5, 10], [0, 5], 0.022790864467909462, 1.7384640828063829], 3: [[10, 5], [0, 5], 0.09956378522942914, 0.11508983159244814]}\n",
      "-11\n",
      "Car 0 is taking a step in the environment with these actions: \n",
      " acceleration = 0.9891972684309879, curvature = 0.9939321181058202\n",
      "Car 1 is taking a step in the environment with these actions: \n",
      " acceleration = 0.9987227954037674, curvature = 7.547650711739398e-13\n",
      "Car 2 is taking a step in the environment with these actions: \n",
      " acceleration = 0.007349111641866273, curvature = 9.887993362538406e-05\n",
      "A car tried to go outside the boundaries\n",
      "Car 3 is taking a step in the environment with these actions: \n",
      " acceleration = 0.7659869939005496, curvature = 1.1797595158045834e-11\n",
      "A car tried to go outside the boundaries\n",
      "{0: [[0.1693842474802957, 4.994378770329774], [5, 10], 0.13420256287062135, 357.81556251809525], 1: [[5.29471803733221, 0.0003625558689706027], [5, 10], 0.1972954957460682, 2.7171542562261834e-10], 2: [[5, 10], [0, 5], 0.02352577563209609, 0.03559677610513826], 3: [[10, 5], [0, 5], 0.17616248461948408, 4.247134256896501e-09]}\n",
      "-11\n",
      "Car 0 is taking a step in the environment with these actions: \n",
      " acceleration = 0.9953442797752646, curvature = 0.9538583627299334\n",
      "Car 1 is taking a step in the environment with these actions: \n",
      " acceleration = 0.47640025636477074, curvature = 0.0007517969019215238\n",
      "Car 2 is taking a step in the environment with these actions: \n",
      " acceleration = 0.9896568832497965, curvature = 0.3986602604772157\n",
      "A car tried to go outside the boundaries\n",
      "Car 3 is taking a step in the environment with these actions: \n",
      " acceleration = 0.862013040966055, curvature = 0.00017295353562361214\n",
      "A car tried to go outside the boundaries\n",
      "{0: [[0.3933668704513305, 4.927559869577349], [5, 10], 0.2337369908481478, 343.38901058277605], 1: [[5.539650826078856, 0.001519548405755117], [5, 10], 0.24493552138254526, 0.2706468846917486], 2: [[5, 10], [0, 5], 0.12249146395707575, 143.51769377179764], 3: [[10, 5], [0, 5], 0.26236378871608956, 0.06226327282450037]}\n",
      "-11\n",
      "Car 0 is taking a step in the environment with these actions: \n",
      " acceleration = 0.9395130180276564, curvature = 0.0003959774532514452\n",
      "Car 1 is taking a step in the environment with these actions: \n",
      " acceleration = 0.9999999708933057, curvature = 0.6057156114096134\n",
      "A car tried to go outside the boundaries\n",
      "Car 2 is taking a step in the environment with these actions: \n",
      " acceleration = 0.6998710168578414, curvature = 0.6532871846692462\n",
      "Car 3 is taking a step in the environment with these actions: \n",
      " acceleration = 0.6637993900535696, curvature = 0.00028155294909413755\n",
      "A car tried to go outside the boundaries\n",
      "{0: [[0.7210541488841392, 4.928375157115356], [5, 10], 0.3276882926509135, 0.14255188317052028], 1: [[5.539650826078856, 0.001519548405755117], [5, 10], 0.34493551847187587, 218.05762010746082], 2: [[4.890104046393427, 9.841978236901259], [0, 5], 0.19247856564285987, 235.18338648092862], 3: [[10, 5], [0, 5], 0.32874372772144655, 0.10135906167388951]}\n",
      "-11\n",
      "Car 0 is taking a step in the environment with these actions: \n",
      " acceleration = 0.977266528564291, curvature = 0.020915088948532255\n",
      "Car 1 is taking a step in the environment with these actions: \n",
      " acceleration = 0.3941215906870275, curvature = 0.9862439723500991\n",
      "A car tried to go outside the boundaries\n",
      "Car 2 is taking a step in the environment with these actions: \n",
      " acceleration = 0.9609033556489677, curvature = 0.9659668251623089\n",
      "Car 3 is taking a step in the environment with these actions: \n",
      " acceleration = 0.999999999961226, curvature = 0.2593150455003087\n",
      "{0: [[1.142801031080604, 4.984119602745181], [5, 10], 0.4254149455073426, 7.529432021471612], 1: [[5.539650826078856, 0.001519548405755117], [5, 10], 0.38434767754057864, 355.04783004603564], 2: [[5.172100476567383, 9.780740796446931], [0, 5], 0.28856890120775663, 347.7480570584312], 3: [[9.974920743859867, 5.4280095968183595], [0, 5], 0.4287437277175692, 93.35341638011113]}\n",
      "-6\n",
      "Car 0 is taking a step in the environment with these actions: \n",
      " acceleration = 0.99663368829711, curvature = 0.00012097584434643558\n",
      "Car 1 is taking a step in the environment with these actions: \n",
      " acceleration = 0.5266966943899538, curvature = 0.6424593868269737\n",
      "A car tried to go outside the boundaries\n",
      "Car 2 is taking a step in the environment with these actions: \n",
      " acceleration = 0.04948350469592566, curvature = 9.055521161144868e-05\n",
      "Car 3 is taking a step in the environment with these actions: \n",
      " acceleration = 0.2197346654046383, curvature = 0.05598296075914237\n",
      "A car tried to go outside the boundaries\n",
      "{0: [[1.6678791937296922, 4.984518721899597], [5, 10], 0.5250783143370537, 0.04355130396471681], 1: [[5.539650826078856, 0.001519548405755117], [5, 10], 0.437017346979574, 231.28537925771053], 2: [[5.4656176807341605, 9.780907800467585], [0, 5], 0.2935172516773492, 0.03259987618012152], 3: [[9.974920743859867, 5.4280095968183595], [0, 5], 0.450717194258033, 20.153865873291252]}\n",
      "-11\n",
      "Car 0 is taking a step in the environment with these actions: \n",
      " acceleration = 0.9864522752571693, curvature = 0.9799260559815968\n",
      "Car 1 is taking a step in the environment with these actions: \n",
      " acceleration = 0.9848021359689337, curvature = 1.9952812248922993e-07\n",
      "Car 2 is taking a step in the environment with these actions: \n",
      " acceleration = 0.132857848040915, curvature = 2.9133365549716514e-05\n",
      "Car 3 is taking a step in the environment with these actions: \n",
      " acceleration = 0.009361210288335916, curvature = 0.9870750540317279\n",
      "A car tried to go outside the boundaries\n",
      "{0: [[2.286648102762195, 4.90605794259831], [5, 10], 0.6237235418627706, 352.77338015337483], 1: [[6.075148386654902, 0.0015202197441426257], [5, 10], 0.5354975605764674, 7.183012409612278e-05], 2: [[5.772420712075512, 9.780963960865686], [0, 5], 0.3068030364814407, 0.010488011597897945], 3: [[9.974920743859867, 5.4280095968183595], [0, 5], 0.45165331528686664, 355.34701945142206]}\n",
      "-6\n",
      "Car 0 is taking a step in the environment with these actions: \n",
      " acceleration = 0.4484549232183034, curvature = 0.6485562595585332\n",
      "Car 1 is taking a step in the environment with these actions: \n",
      " acceleration = 0.9990425979799756, curvature = 0.00013249792892700552\n",
      "Car 2 is taking a step in the environment with these actions: \n",
      " acceleration = 0.9464485962654462, curvature = 0.5156998358196252\n",
      "Car 3 is taking a step in the environment with these actions: \n",
      " acceleration = 0.016119362803886993, curvature = 0.957813246053385\n",
      "A car tried to go outside the boundaries\n",
      "{0: [[1.8887828078208548, 4.368761227038118], [5, 10], 0.6685690341846009, 233.48025344107197], 1: [[6.710549986839997, 0.0020491974427025534], [5, 10], 0.6354018203744649, 0.04769925441372199], 2: [[5.372924443560844, 9.741427335663415], [0, 5], 0.4014478961079853, 185.65194089506508], 3: [[9.974920743859867, 5.4280095968183595], [0, 5], 0.45326525156725533, 344.8127685792186]}\n",
      "-6\n",
      "Car 0 is taking a step in the environment with these actions: \n",
      " acceleration = 0.3755274900103884, curvature = 7.84723851696743e-07\n",
      "Car 1 is taking a step in the environment with these actions: \n",
      " acceleration = 0.3102487003911194, curvature = 0.10671306501310586\n",
      "Car 2 is taking a step in the environment with these actions: \n"
     ]
    },
    {
     "name": "stdout",
     "output_type": "stream",
     "text": [
      " acceleration = 0.1066124139327928, curvature = 2.3274218207867377e-06\n",
      "Car 3 is taking a step in the environment with these actions: \n",
      " acceleration = 0.5243955479094345, curvature = 0.022692509837262405\n",
      "A car tried to go outside the boundaries\n",
      "{0: [[2.5949045909979116, 4.368764708617733], [5, 10], 0.7061217831856398, 0.0002825005866108275], 1: [[7.232703523271134, 0.4161508976179736], [5, 10], 0.6664266904135768, 38.416703404718106], 2: [[5.785033581018044, 9.741433362191907], [0, 5], 0.4121091375012646, 0.0008378718554832255], 3: [[9.974920743859867, 5.4280095968183595], [0, 5], 0.5057048063581988, 8.169303541414466]}\n",
      "-6\n",
      "Car 0 is taking a step in the environment with these actions: \n",
      " acceleration = 0.5970189854122899, curvature = 5.549007176723438e-10\n",
      "Car 1 is taking a step in the environment with these actions: \n",
      " acceleration = 0.9999626469173999, curvature = 0.9851836504055397\n",
      "Car 2 is taking a step in the environment with these actions: \n",
      " acceleration = 0.7096744346315752, curvature = 4.735215223155887e-06\n",
      "Car 3 is taking a step in the environment with these actions: \n",
      " acceleration = 0.9964052967874941, curvature = 6.117711436032747e-13\n",
      "A car tried to go outside the boundaries\n",
      "{0: [[3.3607282727247805, 4.368764711287811], [5, 10], 0.7658236817268688, 1.9976425836204374e-07], 1: [[7.995807785939019, 0.3449046316774387], [5, 10], 0.7664229551053168, 354.6661141459943], 2: [[6.268110161768657, 9.741447734799728], [0, 5], 0.48307658096442213, 0.0017046774803361193], 3: [[9.974920743859867, 5.4280095968183595], [0, 5], 0.6053453360369482, 2.202376116971789e-10]}\n",
      "-6\n"
     ]
    }
   ],
   "source": [
    "import numpy as np\n",
    "import pandas as pd\n",
    "import math\n",
    "import itertools\n",
    "import matplotlib.pyplot as plt\n",
    "import sys\n",
    "import torch  \n",
    "import numpy as np  \n",
    "import torch.nn as nn\n",
    "import torch.optim as optim\n",
    "import torch.nn.functional as F\n",
    "from torch.autograd import Variable\n",
    "import matplotlib.pyplot as plt\n",
    "import pandas as pd\n",
    "\n",
    "\n",
    "import import_ipynb\n",
    "from Environments import Square_Crossroads"
   ]
  },
  {
   "cell_type": "code",
   "execution_count": 2,
   "metadata": {},
   "outputs": [
    {
     "name": "stdout",
     "output_type": "stream",
     "text": [
      "Environment reset with param\n",
      "{0: [[0, 5], [5, 10], 0, 0], 1: [[5, 0], [5, 10], 0, 0], 2: [[5, 10], [0, 5], 0, 0], 3: [[10, 5], [0, 5], 0, 0]}\n"
     ]
    }
   ],
   "source": [
    "n_times_steps = 3\n",
    "seed = 10\n",
    "dist_cars = 0.5\n",
    "\n",
    "env = Square_Crossroads(n_times_steps, seed, dist_cars)\n",
    "\n",
    "\n",
    "action_space = {0:[0,0], 1:[0,0], 2:[0,0], 3:[0,0]}\n",
    "total_reward = 0\n",
    "\n",
    "print(env.states)\n"
   ]
  },
  {
   "cell_type": "code",
   "execution_count": 3,
   "metadata": {},
   "outputs": [],
   "source": [
    "state_tensor = torch.zeros([4,2], dtype=torch.float32)\n",
    "action_tensor = torch.zeros([4,2], dtype=torch.float32)"
   ]
  },
  {
   "cell_type": "code",
   "execution_count": 4,
   "metadata": {},
   "outputs": [],
   "source": [
    "class Actor_Critic(nn.Module):\n",
    "    def __init__(self, state_tensor, hidden_size_actor, hidden_size_critic, learning_rate=3e-4):\n",
    "        super(Actor_Critic, self).__init__()\n",
    "      \n",
    "        self.num_inputs = state_tensor.shape[1]\n",
    "        \n",
    "        \n",
    "        self.critic_linear1 = nn.Linear(self.num_inputs, hidden_size_critic)\n",
    "        self.critic_linear2 = nn.Linear(hidden_size_critic, 1)\n",
    "        \n",
    "        self.actor_linear1 = nn.Linear(self.num_inputs, hidden_size_actor)\n",
    "        self.actor_linear2 = nn.Linear(hidden_size_actor, hidden_size_actor)\n",
    "        self.alpha = nn.Linear(hidden_size_actor, 1)\n",
    "        self.beta = nn.Linear(hidden_size_actor, 1)\n",
    "        \n",
    "\n",
    "    def forward(self, state_tensor):\n",
    "\n",
    "        value = F.relu(self.critic_linear1(state_tensor))\n",
    "        value = self.critic_linear2(value)\n",
    "        \n",
    "        policy_dist = F.relu(self.actor_linear1(state_tensor))\n",
    "        policy_dist = F.relu(self.actor_linear2(policy_dist))\n",
    "\n",
    "        policy_dist_alpha = torch.clamp(self.alpha(policy_dist), 0, 1)\n",
    "        policy_dist_beta = torch.clamp(self.beta(policy_dist), 0, 1)\n",
    "        \n",
    "        \n",
    "        return value, policy_dist_alpha, policy_dist_beta"
   ]
  },
  {
   "cell_type": "code",
   "execution_count": 5,
   "metadata": {},
   "outputs": [],
   "source": [
    "ac = Actor_Critic(state_tensor, 20, 400, learning_rate=3e-4)"
   ]
  },
  {
   "cell_type": "code",
   "execution_count": 6,
   "metadata": {},
   "outputs": [
    {
     "data": {
      "text/plain": [
       "Actor_Critic(\n",
       "  (critic_linear1): Linear(in_features=2, out_features=400, bias=True)\n",
       "  (critic_linear2): Linear(in_features=400, out_features=1, bias=True)\n",
       "  (actor_linear1): Linear(in_features=2, out_features=20, bias=True)\n",
       "  (actor_linear2): Linear(in_features=20, out_features=20, bias=True)\n",
       "  (alpha): Linear(in_features=20, out_features=1, bias=True)\n",
       "  (beta): Linear(in_features=20, out_features=1, bias=True)\n",
       ")"
      ]
     },
     "execution_count": 6,
     "metadata": {},
     "output_type": "execute_result"
    }
   ],
   "source": [
    "ac"
   ]
  },
  {
   "cell_type": "code",
   "execution_count": 7,
   "metadata": {},
   "outputs": [],
   "source": [
    "value, policy_dist_alpha, policy_dist_beta = ac(state_tensor)"
   ]
  },
  {
   "cell_type": "code",
   "execution_count": 8,
   "metadata": {},
   "outputs": [
    {
     "data": {
      "text/plain": [
       "tensor([[0.],\n",
       "        [0.],\n",
       "        [0.],\n",
       "        [0.]], grad_fn=<ClampBackward>)"
      ]
     },
     "execution_count": 8,
     "metadata": {},
     "output_type": "execute_result"
    }
   ],
   "source": [
    "policy_dist_alpha"
   ]
  },
  {
   "cell_type": "code",
   "execution_count": 9,
   "metadata": {},
   "outputs": [
    {
     "data": {
      "text/plain": [
       "tensor([[0.0654],\n",
       "        [0.0654],\n",
       "        [0.0654],\n",
       "        [0.0654]], grad_fn=<ClampBackward>)"
      ]
     },
     "execution_count": 9,
     "metadata": {},
     "output_type": "execute_result"
    }
   ],
   "source": [
    "policy_dist_beta"
   ]
  },
  {
   "cell_type": "code",
   "execution_count": 10,
   "metadata": {},
   "outputs": [
    {
     "data": {
      "text/plain": [
       "tensor([[-0.0856],\n",
       "        [-0.0856],\n",
       "        [-0.0856],\n",
       "        [-0.0856]], grad_fn=<AddmmBackward>)"
      ]
     },
     "execution_count": 10,
     "metadata": {},
     "output_type": "execute_result"
    }
   ],
   "source": [
    "value"
   ]
  },
  {
   "cell_type": "code",
   "execution_count": null,
   "metadata": {},
   "outputs": [],
   "source": []
  }
 ],
 "metadata": {
  "kernelspec": {
   "display_name": "Python 3",
   "language": "python",
   "name": "python3"
  },
  "language_info": {
   "codemirror_mode": {
    "name": "ipython",
    "version": 3
   },
   "file_extension": ".py",
   "mimetype": "text/x-python",
   "name": "python",
   "nbconvert_exporter": "python",
   "pygments_lexer": "ipython3",
   "version": "3.7.4"
  }
 },
 "nbformat": 4,
 "nbformat_minor": 2
}
