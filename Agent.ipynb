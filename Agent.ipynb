{
 "cells": [
  {
   "cell_type": "code",
   "execution_count": 4,
   "metadata": {},
   "outputs": [],
   "source": [
    "import numpy as np\n",
    "import pandas as pd\n",
    "import math\n",
    "import itertools\n",
    "import matplotlib.pyplot as plt\n",
    "import torch\n",
    "\n",
    "import import_ipynb\n",
    "from Environments import Square_Crossroads\n",
    "from Actor_Critic import Actor_Critic"
   ]
  },
  {
   "cell_type": "code",
   "execution_count": 5,
   "metadata": {},
   "outputs": [
    {
     "name": "stdout",
     "output_type": "stream",
     "text": [
      "Environment reset with param\n",
      "{0: [[0, 5], [5, 10], 0, 0], 1: [[5, 0], [5, 10], 0, 0], 2: [[5, 10], [0, 5], 0, 0], 3: [[10, 5], [0, 5], 0, 0]}\n"
     ]
    }
   ],
   "source": [
    "n_times_steps = 3\n",
    "seed = 10\n",
    "dist_cars = 0.5\n",
    "\n",
    "env = Square_Crossroads(n_times_steps, seed, dist_cars)\n",
    "\n",
    "print(env.states)\n",
    "action_space = {0:[0,0], 1:[0,0], 2:[0,0], 3:[0,0]}\n",
    "# total_reward = 0\n",
    "\n",
    "state_tensor = torch.zeros([4,2], dtype=torch.float32)\n",
    "\n",
    "\n",
    "ac = Actor_Critic(state_tensor, 20, 400, learning_rate=3e-4)"
   ]
  },
  {
   "cell_type": "code",
   "execution_count": 6,
   "metadata": {},
   "outputs": [
    {
     "data": {
      "text/plain": [
       "Actor_Critic(\n",
       "  (critic_linear1): Linear(in_features=2, out_features=400, bias=True)\n",
       "  (critic_linear2): Linear(in_features=400, out_features=1, bias=True)\n",
       "  (actor_linear1): Linear(in_features=2, out_features=20, bias=True)\n",
       "  (actor_linear2): Linear(in_features=20, out_features=20, bias=True)\n",
       "  (alpha): Linear(in_features=20, out_features=1, bias=True)\n",
       "  (beta): Linear(in_features=20, out_features=1, bias=True)\n",
       ")"
      ]
     },
     "execution_count": 6,
     "metadata": {},
     "output_type": "execute_result"
    }
   ],
   "source": [
    "ac"
   ]
  },
  {
   "cell_type": "code",
   "execution_count": null,
   "metadata": {},
   "outputs": [],
   "source": []
  }
 ],
 "metadata": {
  "kernelspec": {
   "display_name": "Python 3",
   "language": "python",
   "name": "python3"
  },
  "language_info": {
   "codemirror_mode": {
    "name": "ipython",
    "version": 3
   },
   "file_extension": ".py",
   "mimetype": "text/x-python",
   "name": "python",
   "nbconvert_exporter": "python",
   "pygments_lexer": "ipython3",
   "version": "3.7.4"
  }
 },
 "nbformat": 4,
 "nbformat_minor": 2
}
