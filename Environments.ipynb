{
 "cells": [
  {
   "cell_type": "code",
   "execution_count": 1,
   "metadata": {},
   "outputs": [],
   "source": [
    "import numpy as np\n",
    "import pandas as pd"
   ]
  },
  {
   "cell_type": "code",
   "execution_count": 16,
   "metadata": {},
   "outputs": [],
   "source": [
    "class Square_Crossroads():\n",
    "    \n",
    "    def __init__(self, n_time_steps, seed):\n",
    "        \n",
    "        self.n_time_steps = n_time_steps\n",
    "        \n",
    "        self.length = 10\n",
    "        self.width = 10\n",
    "\n",
    "        self.cars = np.array([0, 1, 2, 3])\n",
    "        \n",
    "        self.state_a = (0, 5)\n",
    "        self.state_b = (5, 0)\n",
    "        self.state_c = (5, 10)\n",
    "        self.state_d = (10, 5)\n",
    "        self.exits = [self.state_a, self.state_b, self.state_c, self.state_d]\n",
    "\n",
    "        self.set_seed(seed)\n",
    "        self.reset()\n",
    "                    \n",
    "        \n",
    "    def step(self, action_space):\n",
    "        \n",
    "        \n",
    "        print(f\"Taking a step in the environment with these actions: \\n curvature = {action_space[0]}, acceleration = {action_space[1]}\")\n",
    "        done = False\n",
    "        \n",
    "        for car in self.cars:\n",
    "            if car:\n",
    "                reward = 1\n",
    "\n",
    "            else:\n",
    "                reward = -1\n",
    "\n",
    "        return self.states, reward, done\n",
    "    \n",
    "    \n",
    "    def set_seed(self, seed):\n",
    "        np.random.seed(seed)\n",
    "    \n",
    "    \n",
    "    def new_car(self):\n",
    "        # add a new car\n",
    "        \n",
    "        last_car = self.cars[-1]\n",
    "        new_car = last_car + 1\n",
    "        self.cars = np.append(self.cars, new_car)\n",
    "        \n",
    "        spawn = np.random.choice(len(self.exits))\n",
    "        self.states[new_car] = self.exits[spawn]\n",
    "        \n",
    "    def reset(self):\n",
    "        print(\"Environmet reset with param\")\n",
    "        \n",
    "        \n",
    "        self.states = dict.fromkeys(self.cars)\n",
    "\n",
    "        for car in self.states:\n",
    "\n",
    "            self.states[car] = self.exits[car]\n",
    "        "
   ]
  },
  {
   "cell_type": "code",
   "execution_count": 17,
   "metadata": {},
   "outputs": [
    {
     "name": "stdout",
     "output_type": "stream",
     "text": [
      "Environmet reset with param\n",
      "{0: (0, 5), 1: (5, 0), 2: (5, 10), 3: (10, 5)}\n"
     ]
    }
   ],
   "source": [
    "n_times_steps = 3\n",
    "seed = 10\n",
    "env = Square_Crossroads(n_times_steps, seed)\n",
    "\n",
    "print(env.states)"
   ]
  },
  {
   "cell_type": "code",
   "execution_count": 18,
   "metadata": {},
   "outputs": [
    {
     "name": "stdout",
     "output_type": "stream",
     "text": [
      "Taking a step in the environment with these actions: \n",
      " curvature = 2.627923859600476, acceleration = -3.58496101281197\n"
     ]
    }
   ],
   "source": [
    "curvature = np.random.uniform(-2, 4)\n",
    "acceleration = np.random.uniform(-4, 16)\n",
    "\n",
    "action_space = (curvature, acceleration)\n",
    "states, reward, done = env.step(action_space)"
   ]
  },
  {
   "cell_type": "code",
   "execution_count": 19,
   "metadata": {},
   "outputs": [
    {
     "data": {
      "text/plain": [
       "{0: (0, 5), 1: (5, 0), 2: (5, 10), 3: (10, 5)}"
      ]
     },
     "execution_count": 19,
     "metadata": {},
     "output_type": "execute_result"
    }
   ],
   "source": [
    "states"
   ]
  },
  {
   "cell_type": "code",
   "execution_count": 20,
   "metadata": {},
   "outputs": [
    {
     "data": {
      "text/plain": [
       "1"
      ]
     },
     "execution_count": 20,
     "metadata": {},
     "output_type": "execute_result"
    }
   ],
   "source": [
    "reward"
   ]
  },
  {
   "cell_type": "code",
   "execution_count": 21,
   "metadata": {},
   "outputs": [
    {
     "data": {
      "text/plain": [
       "False"
      ]
     },
     "execution_count": 21,
     "metadata": {},
     "output_type": "execute_result"
    }
   ],
   "source": [
    "done"
   ]
  },
  {
   "cell_type": "code",
   "execution_count": null,
   "metadata": {},
   "outputs": [],
   "source": []
  }
 ],
 "metadata": {
  "kernelspec": {
   "display_name": "Python 3.7.4 32-bit",
   "language": "python",
   "name": "python37432bit88b32d29ff2048dd80b2200dd1cd051b"
  },
  "language_info": {
   "codemirror_mode": {
    "name": "ipython",
    "version": 3
   },
   "file_extension": ".py",
   "mimetype": "text/x-python",
   "name": "python",
   "nbconvert_exporter": "python",
   "pygments_lexer": "ipython3",
   "version": "3.7.4"
  }
 },
 "nbformat": 4,
 "nbformat_minor": 2
}
